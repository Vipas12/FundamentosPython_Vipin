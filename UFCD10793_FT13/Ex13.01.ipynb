{
 "cells": [
  {
   "cell_type": "code",
   "execution_count": null,
   "metadata": {},
   "outputs": [],
   "source": [
    "#import pandas\n",
    "import pandas as pd"
   ]
  },
  {
   "cell_type": "code",
   "execution_count": null,
   "metadata": {},
   "outputs": [],
   "source": [
    "#ler ficheiro cast.csv para dataframe casts\n",
    "casts=pd.read_csv('cast.csv', index_col=None)"
   ]
  },
  {
   "cell_type": "code",
   "execution_count": null,
   "metadata": {},
   "outputs": [
    {
     "name": "stdout",
     "output_type": "stream",
     "text": [
      "               year             n\n",
      "count  75001.000000  46035.000000\n",
      "mean    1990.536473     16.814359\n",
      "std       26.748233     24.695616\n",
      "min     1912.000000      1.000000\n",
      "25%     1974.000000      4.000000\n",
      "50%     2002.000000     10.000000\n",
      "75%     2012.000000     21.000000\n",
      "max     2023.000000    701.000000\n"
     ]
    }
   ],
   "source": [
    "#dados estatisticos do conjunto\n",
    "print(casts.describe())"
   ]
  },
  {
   "cell_type": "code",
   "execution_count": null,
   "metadata": {},
   "outputs": [
    {
     "name": "stdout",
     "output_type": "stream",
     "text": [
      "                  title  year      name   type                character     n\n",
      "0        Closet Monster  2015  Buffy #1  actor                  Buffy 4  31.0\n",
      "1       Suuri illusioni  1985    Homo $  actor                   Guests  22.0\n",
      "2   Battle of the Sexes  2017   $hutter  actor          Bobby Riggs Fan  10.0\n",
      "3  Secret in Their Eyes  2015   $hutter  actor          2002 Dodger Fan   NaN\n",
      "4            Steve Jobs  2015   $hutter  actor  1988 Opera House Patron   NaN\n"
     ]
    }
   ],
   "source": [
    "#imprimir as cinco primeiras linhas do dataframe casts\n",
    "print(casts.head())"
   ]
  },
  {
   "cell_type": "code",
   "execution_count": null,
   "metadata": {},
   "outputs": [],
   "source": [
    "#ler ficheiro titles.csv para dataframe titles\n",
    "titles= pd.read_csv('titles.csv', index_col=None)"
   ]
  },
  {
   "cell_type": "code",
   "execution_count": null,
   "metadata": {},
   "outputs": [
    {
     "name": "stdout",
     "output_type": "stream",
     "text": [
      "                      title  year\n",
      "49995                 Rebel  1970\n",
      "49996               Suzanne  1996\n",
      "49997                 Bomba  2013\n",
      "49998  Aao Jao Ghar Tumhara  1984\n",
      "49999            Mrs. Munck  1995\n"
     ]
    }
   ],
   "source": [
    "#imprimir as cinco últimas linhas do dataframe titles\n",
    "print(titles.tail())"
   ]
  },
  {
   "cell_type": "code",
   "execution_count": null,
   "metadata": {},
   "outputs": [],
   "source": [
    "#alterar numero de linhas e colunas a visualizar sempre que se imprime todo o dataframe\n",
    "pd.set_option('display.max_rows', 10, 'display.max_columns', 10)"
   ]
  },
  {
   "cell_type": "code",
   "execution_count": null,
   "metadata": {},
   "outputs": [
    {
     "name": "stdout",
     "output_type": "stream",
     "text": [
      "                         title  year\n",
      "0               The Rising Son  1990\n",
      "1      The Thousand Plane Raid  1969\n",
      "2             Crucea de piatra  1993\n",
      "3                      Country  2000\n",
      "4                   Gaiking II  2011\n",
      "...                        ...   ...\n",
      "49995                    Rebel  1970\n",
      "49996                  Suzanne  1996\n",
      "49997                    Bomba  2013\n",
      "49998     Aao Jao Ghar Tumhara  1984\n",
      "49999               Mrs. Munck  1995\n",
      "\n",
      "[50000 rows x 2 columns]\n"
     ]
    }
   ],
   "source": [
    "#imprimir dataframe titles\n",
    "print(titles)"
   ]
  },
  {
   "cell_type": "code",
   "execution_count": null,
   "metadata": {},
   "outputs": [
    {
     "name": "stdout",
     "output_type": "stream",
     "text": [
      "50000\n"
     ]
    }
   ],
   "source": [
    "#atribuir à variável tamanho o numero total d linhas do dataframe titles\n",
    "tamanho=len(titles)\n",
    "#imprimir tamanho\n",
    "print(tamanho)"
   ]
  },
  {
   "cell_type": "code",
   "execution_count": null,
   "metadata": {},
   "outputs": [
    {
     "name": "stdout",
     "output_type": "stream",
     "text": [
      "                     title  year\n",
      "0           The Rising Son  1990\n",
      "1  The Thousand Plane Raid  1969\n",
      "2         Crucea de piatra  1993\n"
     ]
    }
   ],
   "source": [
    "#imprimir primeiras três linhas do dataframe titles\n",
    "print(titles.head(3))"
   ]
  },
  {
   "cell_type": "code",
   "execution_count": null,
   "metadata": {},
   "outputs": [
    {
     "name": "stdout",
     "output_type": "stream",
     "text": [
      "<class 'pandas.core.series.Series'>\n"
     ]
    }
   ],
   "source": [
    "#obter serie t a partir do dataframe titles selecionando a coluna title\n",
    "t = titles['title']\n",
    "print(type(t))"
   ]
  },
  {
   "cell_type": "code",
   "execution_count": null,
   "metadata": {},
   "outputs": [
    {
     "name": "stdout",
     "output_type": "stream",
     "text": [
      "<class 'pandas.core.frame.DataFrame'>\n",
      "RangeIndex: 75001 entries, 0 to 75000\n",
      "Data columns (total 6 columns):\n",
      " #   Column     Non-Null Count  Dtype  \n",
      "---  ------     --------------  -----  \n",
      " 0   title      75000 non-null  object \n",
      " 1   year       75001 non-null  int64  \n",
      " 2   name       75001 non-null  object \n",
      " 3   type       75001 non-null  object \n",
      " 4   character  75001 non-null  object \n",
      " 5   n          46035 non-null  float64\n",
      "dtypes: float64(1), int64(1), object(4)\n",
      "memory usage: 3.4+ MB\n"
     ]
    }
   ],
   "source": [
    "#Obter informação geral do dataframe casts\n",
    "casts.info()\n"
   ]
  },
  {
   "cell_type": "code",
   "execution_count": null,
   "metadata": {},
   "outputs": [
    {
     "name": "stdout",
     "output_type": "stream",
     "text": [
      "title    The Rising Son\n",
      "year               1990\n",
      "Name: 0, dtype: object\n"
     ]
    }
   ],
   "source": [
    "#imprimir linha de indice 0 no dataframe titles\n",
    "print(titles.iloc[0])"
   ]
  },
  {
   "cell_type": "code",
   "execution_count": null,
   "metadata": {},
   "outputs": [
    {
     "name": "stdout",
     "output_type": "stream",
     "text": [
      "              title  year\n",
      "0    The Rising Son  1990\n",
      "2  Crucea de piatra  1993\n",
      "3           Country  2000\n",
      "4        Gaiking II  2011\n",
      "5       Medusa (IV)  2015\n"
     ]
    }
   ],
   "source": [
    "#obter dataframe after85 filtrando o dataframe titles \n",
    "#selecionando os registos cujo ano é superior a 1985\n",
    "after85= titles[titles['year']>1985]\n",
    "print(after85.head())"
   ]
  },
  {
   "cell_type": "code",
   "execution_count": null,
   "metadata": {},
   "outputs": [
    {
     "name": "stdout",
     "output_type": "stream",
     "text": [
      "                       title  year\n",
      "0             The Rising Son  1990\n",
      "2           Crucea de piatra  1993\n",
      "12  Poka Makorer Ghar Bosoti  1996\n",
      "19          Maa Durga Shakti  1999\n",
      "24      Conflict of Interest  1993\n"
     ]
    }
   ],
   "source": [
    "#obter dataframe movies90 filtrando o dataframe t selecionando os registos cujo ano\n",
    "# é superior e igual a 1990 e inferior a 2000\n",
    "t=titles\n",
    "movies90= t[(t['year']>=1990) & (t['year']<2000)]\n",
    "print(movies90.head())"
   ]
  },
  {
   "cell_type": "code",
   "execution_count": null,
   "metadata": {},
   "outputs": [
    {
     "name": "stdout",
     "output_type": "stream",
     "text": [
      "         title  year\n",
      "4226   Macbeth  1913\n",
      "9322   Macbeth  2006\n",
      "11722  Macbeth  2013\n",
      "17166  Macbeth  1997\n",
      "25847  Macbeth  1998\n"
     ]
    }
   ],
   "source": [
    "#obter dataframe macbeth a partir do dataframe t \n",
    "# cujo valor na coluna title é igual a Macbeth\n",
    "macbeth= t[(t['title']== 'Macbeth')]\n",
    "print (macbeth.head())"
   ]
  },
  {
   "cell_type": "code",
   "execution_count": null,
   "metadata": {},
   "outputs": [
    {
     "name": "stdout",
     "output_type": "stream",
     "text": [
      "         title  year\n",
      "4226   Macbeth  1913\n",
      "9322   Macbeth  2006\n",
      "11722  Macbeth  2013\n",
      "17166  Macbeth  1997\n",
      "25847  Macbeth  1998\n"
     ]
    }
   ],
   "source": [
    "#obter dataframe macbeth a partir do dataframe t cujo valor na coluna title é igual \n",
    "# a Macbeth e ordenar por index\n",
    "macbeth= t[(t['title']== 'Macbeth')].sort_index()\n",
    "print (macbeth.head())\n"
   ]
  },
  {
   "cell_type": "code",
   "execution_count": null,
   "metadata": {},
   "outputs": [
    {
     "name": "stdout",
     "output_type": "stream",
     "text": [
      "         title  year\n",
      "4226   Macbeth  1913\n",
      "17166  Macbeth  1997\n",
      "25847  Macbeth  1998\n",
      "9322   Macbeth  2006\n",
      "11722  Macbeth  2013\n"
     ]
    }
   ],
   "source": [
    "#obter dataframe macbeth a partir do dataframe t cujo valor na coluna title é\n",
    "# igual a Macbeth e ordenar pelos values \n",
    "macbeth = t[ t['title'] == 'Macbeth'].sort_values('year')\n",
    "print(macbeth.head())"
   ]
  },
  {
   "cell_type": "code",
   "execution_count": null,
   "metadata": {},
   "outputs": [
    {
     "name": "stdout",
     "output_type": "stream",
     "text": [
      "                  title  year     name   type                character   n\n",
      "3  Secret in Their Eyes  2015  $hutter  actor          2002 Dodger Fan NaN\n",
      "4            Steve Jobs  2015  $hutter  actor  1988 Opera House Patron NaN\n"
     ]
    }
   ],
   "source": [
    "#imprimir linhas 3 e 4 do dataframe casts\n",
    "print(casts.loc[3:4])"
   ]
  },
  {
   "cell_type": "code",
   "execution_count": null,
   "metadata": {},
   "outputs": [
    {
     "name": "stdout",
     "output_type": "stream",
     "text": [
      "0    False\n",
      "1    False\n",
      "2    False\n",
      "3     True\n",
      "4     True\n",
      "Name: n, dtype: bool\n"
     ]
    }
   ],
   "source": [
    "#devolve true em cada elemento da linha correspondente à coluna\n",
    "# n se o valor for nulo e false caso contrário\n",
    "c=casts\n",
    "print(c['n'].isnull().head())"
   ]
  },
  {
   "cell_type": "code",
   "execution_count": null,
   "metadata": {},
   "outputs": [
    {
     "name": "stdout",
     "output_type": "stream",
     "text": [
      "0     True\n",
      "1     True\n",
      "2     True\n",
      "3    False\n",
      "4    False\n",
      "Name: n, dtype: bool\n"
     ]
    }
   ],
   "source": [
    "#devolve false em cada elemento da linha correspondente à coluna n se o valor for nulo\n",
    "# e true caso contrário \n",
    "print(c['n'].notnull().head())"
   ]
  },
  {
   "cell_type": "code",
   "execution_count": null,
   "metadata": {},
   "outputs": [
    {
     "name": "stdout",
     "output_type": "stream",
     "text": [
      "                    title  year     name   type                character   n\n",
      "3    Secret in Their Eyes  2015  $hutter  actor          2002 Dodger Fan NaN\n",
      "4              Steve Jobs  2015  $hutter  actor  1988 Opera House Patron NaN\n",
      "5  Straight Outta Compton  2015  $hutter  actor              Club Patron NaN\n"
     ]
    }
   ],
   "source": [
    "#devolve as primeiras linhas com valor nulo na coluna n \n",
    "print(c[c['n'].isnull()].head(3))"
   ]
  },
  {
   "cell_type": "code",
   "execution_count": null,
   "metadata": {},
   "outputs": [
    {
     "name": "stdout",
     "output_type": "stream",
     "text": [
      "                  title  year     name   type                character   n\n",
      "3  Secret in Their Eyes  2015  $hutter  actor          2002 Dodger Fan  NA\n",
      "4            Steve Jobs  2015  $hutter  actor  1988 Opera House Patron  NA\n"
     ]
    }
   ],
   "source": [
    "#substitui os valores nulos de n por 'NA'\n",
    "c_fill = c[c['n'].isnull()].fillna('NA')\n",
    "print(c_fill.head(2))"
   ]
  },
  {
   "cell_type": "code",
   "execution_count": null,
   "metadata": {},
   "outputs": [
    {
     "name": "stdout",
     "output_type": "stream",
     "text": [
      "      title  year\n",
      "38880   Maa  1968\n"
     ]
    }
   ],
   "source": [
    "#imprime as linhas do dataframe cujo valor afetos à coluna title é igual a 'Maa'\n",
    "print(t[t['title'] == 'Maa'])"
   ]
  },
  {
   "cell_type": "code",
   "execution_count": null,
   "metadata": {},
   "outputs": [
    {
     "name": "stdout",
     "output_type": "stream",
     "text": [
      "                  title  year\n",
      "19     Maa Durga Shakti  1999\n",
      "3046      Maa Aur Mamta  1970\n",
      "7470  Maa Vaibhav Laxmi  1989\n"
     ]
    }
   ],
   "source": [
    "#imprime as linhas do dataframe cujo valor afetos à coluna title é inicia com a 'Maa ' \n",
    "print(t[t['title'].str.startswith(\"Maa \")].head(3))"
   ]
  },
  {
   "cell_type": "code",
   "execution_count": null,
   "metadata": {},
   "outputs": [
    {
     "name": "stdout",
     "output_type": "stream",
     "text": [
      "year\n",
      "2016    2363\n",
      "2017    2138\n",
      "2015    1849\n",
      "2014    1701\n",
      "2013    1609\n",
      "Name: count, dtype: int64\n"
     ]
    }
   ],
   "source": [
    "#conta os valores não nulos presentes na coluna year\n",
    "print(t['year'].value_counts().head())"
   ]
  },
  {
   "cell_type": "code",
   "execution_count": null,
   "metadata": {},
   "outputs": [],
   "source": [
    "c = casts\n",
    "#obtem o dataframe cf a partir de c filtrando os dados que verifiquem \n",
    "# a condição do autor ser 'Aaron Abrams' \n",
    "cf = c[c['name'] == 'Aaron Abrams']\n"
   ]
  },
  {
   "cell_type": "code",
   "execution_count": null,
   "metadata": {},
   "outputs": [
    {
     "name": "stdout",
     "output_type": "stream",
     "text": [
      "year\n",
      "2003    2\n",
      "2004    2\n",
      "2005    2\n",
      "2006    1\n",
      "2007    2\n",
      "dtype: int64\n"
     ]
    }
   ],
   "source": [
    "#Agrupar os dados do dataframe anterior pela coluna year\n",
    "print(cf.groupby(['year']).size().head())"
   ]
  },
  {
   "cell_type": "code",
   "execution_count": null,
   "metadata": {},
   "outputs": [],
   "source": [
    "#group by com múltiplas colunas\n",
    "gbmultiplecolumns = cf.groupby(['year', 'title']).size()\n",
    "gbmultiplecolumns.head()\n"
   ]
  },
  {
   "cell_type": "code",
   "execution_count": null,
   "metadata": {},
   "outputs": [
    {
     "name": "stdout",
     "output_type": "stream",
     "text": [
      "                    title  year      country        date\n",
      "0   #73, Shaanthi Nivaasa  2007        India  2007-06-15\n",
      "1                 #Beings  2015      Romania  2015-01-29\n",
      "2               #Declimax  2018  Netherlands  2018-01-21\n",
      "3  #Ewankosau saranghaeyo  2015  Philippines  2015-01-21\n",
      "4                 #Horror  2015          USA  2015-11-20\n",
      "        title  year            name   type    character     n\n",
      "5767   Amelia  2009    Aaron Abrams  actor  Slim Gordon   8.0\n",
      "23319  Amelia  2009  Jeremy Akerman  actor      Sheriff  19.0\n",
      "        title  year    country        date\n",
      "20543  Amelia  1966     Mexico  1966-03-10\n",
      "20544  Amelia  2009     Canada  2009-10-23\n",
      "20545  Amelia  2009        USA  2009-10-23\n",
      "20546  Amelia  2009  Australia  2009-11-12\n",
      "20547  Amelia  2009  Singapore  2009-11-12\n"
     ]
    }
   ],
   "source": [
    "#leitura dos dados do ficheiro release_dates.csv para o dataframe release \n",
    "release = pd.read_csv('release_dates.csv', index_col=None)\n",
    "print(release.head())\n",
    "\n",
    "c_amelia = casts[ casts['title'] == 'Amelia']\n",
    "print(c_amelia.head())\n",
    "print(release [ release['title'] == 'Amelia' ].head())"
   ]
  },
  {
   "cell_type": "code",
   "execution_count": null,
   "metadata": {},
   "outputs": [
    {
     "name": "stdout",
     "output_type": "stream",
     "text": [
      "    title  year          name   type    character    n    country        date\n",
      "0  Amelia  2009  Aaron Abrams  actor  Slim Gordon  8.0     Canada  2009-10-23\n",
      "1  Amelia  2009  Aaron Abrams  actor  Slim Gordon  8.0        USA  2009-10-23\n",
      "2  Amelia  2009  Aaron Abrams  actor  Slim Gordon  8.0  Australia  2009-11-12\n",
      "3  Amelia  2009  Aaron Abrams  actor  Slim Gordon  8.0  Singapore  2009-11-12\n",
      "4  Amelia  2009  Aaron Abrams  actor  Slim Gordon  8.0    Ireland  2009-11-13\n"
     ]
    }
   ],
   "source": [
    "#imprimeir os primeiras cinco linhas do merge (fusão) c_amelia com o dataframe release\n",
    "print(c_amelia.merge(release).head())"
   ]
  },
  {
   "cell_type": "code",
   "execution_count": null,
   "metadata": {},
   "outputs": [],
   "source": [
    "print(c_amelia.merge(release).head(10))"
   ]
  }
 ],
 "metadata": {
  "kernelspec": {
   "display_name": ".venv",
   "language": "python",
   "name": "python3"
  },
  "language_info": {
   "name": "python",
   "version": "3.13.2"
  }
 },
 "nbformat": 4,
 "nbformat_minor": 2
}
