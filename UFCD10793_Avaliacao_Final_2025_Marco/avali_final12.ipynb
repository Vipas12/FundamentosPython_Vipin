{
 "cells": [
  {
   "cell_type": "code",
   "execution_count": null,
   "metadata": {},
   "outputs": [
    {
     "name": "stdout",
     "output_type": "stream",
     "text": [
      "dia = 12 mes = 12 ano = 2032\n"
     ]
    }
   ],
   "source": [
    "#Ex1 - Leia uma cadeia de caracteres no formato “DD/MM/AAAA” e \n",
    "#copie o dia, mês e ano para três variáveis inteiras\n",
    "\n",
    "data=(input('introduza uma data no formato DD/MM/AAA: '))\n",
    "dia, mes, ano = [int(i) for i in data.split(\"/\")]\n",
    "print(\"dia =\", dia, \"mes =\",mes, \"ano =\",ano)\n"
   ]
  },
  {
   "cell_type": "code",
   "execution_count": 3,
   "metadata": {},
   "outputs": [
    {
     "name": "stdout",
     "output_type": "stream",
     "text": [
      "abelha\n",
      "número de vogais é 3\n"
     ]
    }
   ],
   "source": [
    "#Ex2 - Escreve uma função em Python que dada uma palavra retorne o número de vogais nessa palavra.\n",
    "\n",
    "def contar_vogais(palavra):\n",
    "    vogais=\"aeiouAEIOU\"\n",
    "    soma=0\n",
    "    for i in vogais:\n",
    "        conta=palavra.count(i)\n",
    "        soma=conta+soma\n",
    "    return soma\n",
    "\n",
    "palavra=input('Digite 1 palavra: ')\n",
    "\n",
    "soma_vogais=contar_vogais(palavra)\n",
    "print(palavra)\n",
    "print(f\"número de vogais é {soma_vogais}\")\n"
   ]
  },
  {
   "cell_type": "code",
   "execution_count": 37,
   "metadata": {},
   "outputs": [
    {
     "name": "stdout",
     "output_type": "stream",
     "text": [
      "56 89 -78 89 -2\n",
      "['56', '89', '-78', '89', '-2']\n",
      "[56, 89, -78, 89, -2]\n",
      "Soma da lista: 154\n",
      "Número de elementos da lista: 5\n",
      "Média dos valores da lista: 30.80\n",
      "Operação terminada.\n"
     ]
    }
   ],
   "source": [
    "#Ex3 - Escreve uma função em Python que dada uma lista de números imprime \n",
    "# a soma dos valores dessa lista, o número de elementos da lista e a media desses valores.\n",
    "# Implementa tratamento de exceções no teu código (try…except…else..finally).\n",
    "\n",
    "def calcula_lista(lista):\n",
    "    try:\n",
    "        # Converte os elementos da lista para inteiros\n",
    "        numeros = [int(num) for num in lista]\n",
    "        \n",
    "        # Calcular soma, tamanho e média\n",
    "        soma = sum(numeros)\n",
    "        tamanho = len(numeros)\n",
    "        media = soma / tamanho\n",
    "        \n",
    "    except ValueError:\n",
    "        print(\"Erro: A lista contém valores não numéricos.\")\n",
    "    except ZeroDivisionError:\n",
    "        print(\"Erro: Não é possível calcular a média de uma lista vazia.\")\n",
    "    else:\n",
    "        # Executado se nenhum erro ocorrer\n",
    "        print(numeros)\n",
    "        print(\"Soma da lista:\", soma)\n",
    "        print(\"Número de elementos da lista:\", tamanho)\n",
    "        print(\"Média dos valores da lista:\", format(media, \".2f\"))\n",
    "    finally:\n",
    "        print(\"Operação terminada.\")\n",
    "\n",
    "# Entrada do usuário\n",
    "texto = input(\"Insira uma sequência de números separados por espaços: \")\n",
    "print(texto)\n",
    "lista = texto.split() #converte texto em lista\n",
    "print(lista)\n",
    "\n",
    "# executar a função\n",
    "calcula_lista(lista)\n",
    "\n"
   ]
  },
  {
   "cell_type": "code",
   "execution_count": null,
   "metadata": {},
   "outputs": [
    {
     "name": "stdout",
     "output_type": "stream",
     "text": [
      "[[31 73 75 65]\n",
      " [82 73 59 18]\n",
      " [65 34 89 23]\n",
      " [87 13 31 72]\n",
      " [18 87 47 41]]\n",
      "[[61 55 35 99]\n",
      " [ 7 35 27 54]\n",
      " [66 33 54 77]\n",
      " [75 79 11  7]\n",
      " [78 95 37 13]]\n",
      "[[-30  18  40 -34]\n",
      " [ 75  38  32 -36]\n",
      " [ -1   1  35 -54]\n",
      " [ 12 -66  20  65]\n",
      " [-60  -8  10  28]]\n",
      "4.25\n"
     ]
    }
   ],
   "source": [
    "#4.\tUtilizando a biblioteca NumPy:\n",
    "    #a.\tCria um array de números 1 com shape (8, 2)\n",
    "    #b.\tCria um array de zeros com shape (5, 7)\n",
    "    #c.\tSubtraia o novo array de outro com dados aleatórios e armazene o numa variável chamada subarray\n",
    "    #d.\tCalcula a média dos valores do array subarray\n",
    "\n",
    "import numpy as np\n",
    "import random\n",
    "matrz1= np.array ([[1,1,1,1,1,1,1, 1],\n",
    "                   [1,1,1,1,1,1,1,1]])\n",
    "matrz2= np.array ([[0,0,0,0,0], \n",
    "                   [0,0,0,0,0], \n",
    "                   [0,0,0,0,0],\n",
    "                   [0,0,0,0,0],\n",
    "                   [0,0,0,0,0]])\n",
    "matrzA= np.random.randint(1,100, size=(5,4))                                                                                                                        \n",
    "matrzB= np.random.randint(1,100, size=(5,4)) \n",
    "subarray= matrzA - matrzB\n",
    "media_subarray=np.mean(subarray)\n",
    "print(matrzA)\n",
    "print (matrzB)\n",
    "print(subarray)\n",
    "print(media_subarray)\n"
   ]
  }
 ],
 "metadata": {
  "kernelspec": {
   "display_name": "Python 3",
   "language": "python",
   "name": "python3"
  },
  "language_info": {
   "codemirror_mode": {
    "name": "ipython",
    "version": 3
   },
   "file_extension": ".py",
   "mimetype": "text/x-python",
   "name": "python",
   "nbconvert_exporter": "python",
   "pygments_lexer": "ipython3",
   "version": "3.13.2"
  }
 },
 "nbformat": 4,
 "nbformat_minor": 2
}
