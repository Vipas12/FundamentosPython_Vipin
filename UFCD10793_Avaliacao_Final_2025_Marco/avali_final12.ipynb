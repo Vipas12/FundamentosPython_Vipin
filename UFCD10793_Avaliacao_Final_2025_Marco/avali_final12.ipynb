{
 "cells": [
  {
   "cell_type": "code",
   "execution_count": null,
   "metadata": {},
   "outputs": [
    {
     "name": "stdout",
     "output_type": "stream",
     "text": [
      "dia = 12 mes = 12 ano = 2032\n"
     ]
    }
   ],
   "source": [
    "#Ex1 - Leia uma cadeia de caracteres no formato “DD/MM/AAAA” e \n",
    "#copie o dia, mês e ano para três variáveis inteiras\n",
    "\n",
    "data=(input('introduza uma data no formato DD/MM/AAA: '))\n",
    "dia, mes, ano = [int(i) for i in data.split(\"/\")]\n",
    "print(\"dia =\", dia, \"mes =\",mes, \"ano =\",ano)\n"
   ]
  },
  {
   "cell_type": "code",
   "execution_count": 3,
   "metadata": {},
   "outputs": [
    {
     "name": "stdout",
     "output_type": "stream",
     "text": [
      "abelha\n",
      "número de vogais é 3\n"
     ]
    }
   ],
   "source": [
    "#Ex2 - Escreve uma função em Python que dada uma palavra retorne o número de vogais nessa palavra.\n",
    "\n",
    "def contar_vogais(palavra):\n",
    "    vogais=\"aeiouAEIOU\"\n",
    "    soma=0\n",
    "    for i in vogais:\n",
    "        conta=palavra.count(i)\n",
    "        soma=conta+soma\n",
    "    return soma\n",
    "\n",
    "palavra=input('Digite 1 palavra: ')\n",
    "\n",
    "soma_vogais=contar_vogais(palavra)\n",
    "print(palavra)\n",
    "print(f\"número de vogais é {soma_vogais}\")\n"
   ]
  },
  {
   "cell_type": "code",
   "execution_count": null,
   "metadata": {},
   "outputs": [
    {
     "name": "stdout",
     "output_type": "stream",
     "text": [
      "Soma da lista: 0\n",
      "Número de elementos da lista: 4\n",
      "Média dos valores da lista: 0.00\n",
      "Operação terminada.\n"
     ]
    },
    {
     "data": {
      "text/plain": [
       "'def calcula_soma (base):\\n    soma_lista=0\\n    for num in base:\\n        soma_lista=soma_lista + int(num) #converte string para inteiro e soma\\n    tamanho_lista=len(base)\\n    return soma_lista, tamanho_lista\\n\\n\\ntexto= input(\"insira uma sequência de números separado por espaços: \")\\n#texto=\"1 2 3 4 5 6 7 8 9 10\"\\nlista=(texto.split()) #cria uma lista de strings\\n\\n#chamar definição e guardar as variáveis\\nsoma_lista, tamanho_lista = calcula_soma(lista)\\n\\n\\nprint(lista)\\nprint(\"a soma da lista é \",soma_lista)\\nprint(\"o tamanho da lista é \",tamanho_lista)\\nprint(\"a média dos valores da lista é \", format((soma_lista/tamanho_lista), \".2f\"))\\n'"
      ]
     },
     "execution_count": 33,
     "metadata": {},
     "output_type": "execute_result"
    }
   ],
   "source": [
    "#Ex3 - Escreve uma função em Python que dada uma lista de números imprime \n",
    "# a soma dos valores dessa lista, o número de elementos da lista e a media desses valores.\n",
    "# Implementa tratamento de exceções no teu código (try…except…else..finally).\n",
    "\n",
    "def calcula_lista(lista):\n",
    "    try:\n",
    "        # Converte os elementos da lista para inteiros\n",
    "        numeros = [int(num) for num in lista]\n",
    "        \n",
    "        # Calcular soma, tamanho e média\n",
    "        soma = sum(numeros)\n",
    "        tamanho = len(numeros)\n",
    "        media = soma / tamanho\n",
    "        \n",
    "    except ValueError:\n",
    "        print(\"Erro: A lista contém valores não numéricos.\")\n",
    "    except ZeroDivisionError:\n",
    "        print(\"Erro: Não é possível calcular a média de uma lista vazia.\")\n",
    "    else:\n",
    "        # Executado se nenhum erro ocorrer\n",
    "        print(\"Soma da lista:\", soma)\n",
    "        print(\"Número de elementos da lista:\", tamanho)\n",
    "        print(\"Média dos valores da lista:\", format(media, \".2f\"))\n",
    "    finally:\n",
    "        print(\"Operação terminada.\")\n",
    "\n",
    "# Entrada do usuário\n",
    "texto = input(\"Insira uma sequência de números separados por espaços: \")\n",
    "lista = texto.split()\n",
    "\n",
    "# executar a função\n",
    "calcula_lista(lista)\n",
    "\n"
   ]
  },
  {
   "cell_type": "code",
   "execution_count": null,
   "metadata": {},
   "outputs": [],
   "source": []
  }
 ],
 "metadata": {
  "kernelspec": {
   "display_name": "Python 3",
   "language": "python",
   "name": "python3"
  },
  "language_info": {
   "codemirror_mode": {
    "name": "ipython",
    "version": 3
   },
   "file_extension": ".py",
   "mimetype": "text/x-python",
   "name": "python",
   "nbconvert_exporter": "python",
   "pygments_lexer": "ipython3",
   "version": "3.13.2"
  }
 },
 "nbformat": 4,
 "nbformat_minor": 2
}
