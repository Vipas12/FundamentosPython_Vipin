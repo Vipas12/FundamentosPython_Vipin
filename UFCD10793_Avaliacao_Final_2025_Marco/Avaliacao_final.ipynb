{
 "cells": [
  {
   "cell_type": "code",
   "execution_count": null,
   "metadata": {},
   "outputs": [],
   "source": [
    "#Ex1 Leia uma cadeia de caracteres no formato “DD/MM/AAAA” e \n",
    "#copie o dia, mês e ano para três variáveis inteiras\n",
    "\n",
    "data=(input('introduza uma data no formato DD/MM/AAA: '))\n",
    "dia, mes, ano = [int(i) for i in data.split(\"/\")]\n",
    "print(\"dia =\", dia, \"mes =\",mes, \"ano =\",ano)\n"
   ]
  },
  {
   "cell_type": "markdown",
   "metadata": {},
   "source": []
  },
  {
   "cell_type": "markdown",
   "metadata": {},
   "source": []
  }
 ],
 "metadata": {
  "kernelspec": {
   "display_name": "Python 3",
   "language": "python",
   "name": "python3"
  },
  "language_info": {
   "codemirror_mode": {
    "name": "ipython",
    "version": 3
   },
   "file_extension": ".py",
   "mimetype": "text/x-python",
   "name": "python",
   "nbconvert_exporter": "python",
   "pygments_lexer": "ipython3",
   "version": "3.13.2"
  }
 },
 "nbformat": 4,
 "nbformat_minor": 2
}
